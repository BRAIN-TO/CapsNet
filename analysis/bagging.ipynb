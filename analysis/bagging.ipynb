{
 "cells": [
  {
   "cell_type": "code",
   "execution_count": 16,
   "metadata": {},
   "outputs": [],
   "source": [
    "import numpy as np\n",
    "from tqdm import tqdm\n",
    "num_replicates = 1000\n",
    "\n",
    "def boostrap_replicate(y_pred, y_true, func):\n",
    "    NUM_SAMPLES = np.shape(y_pred)[0]\n",
    "    data = np.stack([y_pred, y_true], axis=0)\n",
    "    rng = np.random.default_rng()\n",
    "    bootstrap = rng.choice(data, size=NUM_SAMPLES, replace=True, axis=1)\n",
    "    val = func(bootstrap[0], bootstrap[1])\n",
    "    return val\n",
    "\n",
    "def draw_bs_replicate(y_pred, y_true, func, num):\n",
    "    vals = []\n",
    "    for i in tqdm(range(num)):\n",
    "        val = boostrap_replicate(y_pred, y_true, func)\n",
    "        vals.append(val)\n",
    "    return vals"
   ]
  },
  {
   "cell_type": "code",
   "execution_count": 17,
   "metadata": {},
   "outputs": [],
   "source": [
    "# Load data\n",
    "from helper_functions import *\n",
    "from scipy.io import loadmat\n",
    "from sklearn.preprocessing import StandardScaler\n",
    "base_dir = ''\n",
    "matlab_file = base_dir + 'kamitani_data/fmri/Subject3.mat'\n",
    "test_image_ids = base_dir + 'kamitani_data/images/image_test_id.csv'\n",
    "train_image_ids = base_dir + 'kamitani_data/images/image_training_id.csv'\n",
    "images_npz = base_dir + 'kamitani_data/images/images_112.npz'\n",
    "\n",
    "x_train, x_test, y_train, y_test, xyz = load_data(matlab_file, test_image_ids, train_image_ids, images_npz, roi='ROI_VC')\n",
    "NUM_VOXELS = y_train.shape[1]\n",
    "\n",
    "digits_data = loadmat('handwritten_digits_in_fmri_dataset/69dataset_split.mat')\n",
    "digits_test = digits_data['y_test']\n",
    "digits_train =  digits_data['y_train']\n",
    "scaler = StandardScaler()\n",
    "digits_train = scaler.fit_transform(digits_train)\n",
    "digits_test  = scaler.transform(digits_test)\n",
    "\n",
    "# Imagenet model predictions\n",
    "beliy_pred = np.loadtxt('models/beliy/gaziv_y_pred.csv', delimiter=',')\n",
    "caps_pred = np.loadtxt('models/caps_encoder_test2/y_pred.csv', delimiter=',')\n",
    "naive_pred = np.loadtxt('models/naive/y_pred.csv', delimiter=',')\n",
    "\n",
    "#MNIST model predictions\n",
    "digits_beliy_pred = np.loadtxt('models/digits_beliy/y_pred.csv', delimiter=',')\n",
    "digits_naive_pred = np.loadtxt('models/naive/digits_pred.csv', delimiter=',')\n",
    "digits_cnn_pred = np.loadtxt('models/digits_cnn_wide/y_pred.csv', delimiter=',')\n",
    "digits_caps_pred = np.loadtxt('models/digits_encoder_test4/y_pred.csv', delimiter=',')"
   ]
  },
  {
   "cell_type": "code",
   "execution_count": 3,
   "metadata": {},
   "outputs": [],
   "source": [
    "# Metric functions\n",
    "# Data will be shape (2, num_samples, num_voxels)\n",
    "\n",
    "def voxel_corr(y_pred, y_true):\n",
    "  NUM_VOXELS = np.shape(y_pred)[1]\n",
    "  vc = []\n",
    "  for i in range(NUM_VOXELS):\n",
    "    vc.append(stats.pearsonr(y_pred[:, i], y_true[:, i])[0]) \n",
    "  return np.array(vc)\n",
    "\n",
    "def vc_mean(y_pred, y_true):\n",
    "  return np.mean(voxel_corr(y_pred, y_true))\n",
    "\n",
    "def vc_top100_mean(y_pred, y_true):\n",
    "  vc = voxel_corr(y_pred, y_true)\n",
    "  vc_sort = np.sort(vc)\n",
    "  return np.mean(vc_sort[-100:])\n",
    "\n",
    "def sample_corr(y_pred, y_true):\n",
    "  NUM_SAMPLES = np.shape(y_pred)[0]\n",
    "  sc = []\n",
    "  for i in range(NUM_SAMPLES):\n",
    "    sc.append(stats.pearsonr(y_pred[i], y_true[i])[0])\n",
    "  return np.array(sc)\n",
    "\n",
    "def sc_mean(y_pred, y_true):\n",
    "  return np.mean(sample_corr(y_pred, y_true))\n",
    "\n",
    "def response_sensitivity(y_pred, y_true):\n",
    "  return np.std(y_pred, axis=0)\n",
    "\n",
    "def rs_mean(y_pred, y_true):\n",
    "  return np.mean(response_sensitivity(y_pred, y_true))\n",
    "\n",
    "def response_weighted_corr(y_pred, y_true):\n",
    "  vc = voxel_corr(y_pred, y_true)\n",
    "  rs = response_sensitivity(y_pred, y_true)\n",
    "  vcrs = vc * rs\n",
    "  rwc = np.sign(vcrs)*np.sqrt(abs(vcrs))\n",
    "  return rwc\n",
    "\n",
    "def rwc_mean(y_pred, y_true):\n",
    "  return np.mean(response_weighted_corr(y_pred, y_true))\n",
    "\n",
    "def confidence_95(vals):\n",
    "  z = 1.960 # z-score for a confidence of 95%\n",
    "  n = len(vals)\n",
    "  return z*np.std(vals)/(np.sqrt(n))\n",
    "\n",
    "def mse(y_pred, y_true):\n",
    "  diff = np.subtract(y_pred, y_true)\n",
    "  return np.mean(np.square(diff))\n",
    "\n",
    "def rwc_thresh(y_pred, y_true):\n",
    "  rwc = response_weighted_corr(y_pred, y_true)\n",
    "  return abs(np.min(rwc))\n",
    "\n",
    "def get_int_vox_idx(y_pred, y_true):\n",
    "  NUM_VOXELS = np.shape(y_pred)[1]\n",
    "  rwc = response_weighted_corr(y_pred, y_true)\n",
    "  thresh = abs(np.min(rwc))\n",
    "  return np.where(rwc > thresh)[0]\n",
    "\n",
    "def above_thresh_percentage(y_pred, y_true):\n",
    "  v_int = get_int_vox_idx(y_pred, y_true)\n",
    "  return len(v_int)*100/NUM_VOXELS\n",
    "\n",
    "def rwc_skew(y_pred, y_true):\n",
    "  vc = voxel_corr(y_pred, y_true)\n",
    "  rs = response_sensitivity(y_pred, y_true)\n",
    "  rho, phi = cart2pol(1 - rs, 1 - vc)\n",
    "  skew = phi*(180/np.pi) - 45\n",
    "  return skew\n",
    "\n",
    "def rwc_skew_mean(y_pred, y_true):\n",
    "  return np.mean(rwc_skew(y_pred, y_true))"
   ]
  },
  {
   "cell_type": "code",
   "execution_count": 18,
   "metadata": {},
   "outputs": [
    {
     "name": "stdout",
     "output_type": "stream",
     "text": [
      "ImageNet-fMRI\n",
      "beliy\n"
     ]
    },
    {
     "name": "stderr",
     "output_type": "stream",
     "text": [
      "100%|██████████| 1000/1000 [00:02<00:00, 371.20it/s]\n"
     ]
    },
    {
     "name": "stdout",
     "output_type": "stream",
     "text": [
      "MSE : 0.062991+-0.000137, 0.002203, 0.004405\n"
     ]
    },
    {
     "name": "stderr",
     "output_type": "stream",
     "text": [
      "100%|██████████| 1000/1000 [05:23<00:00,  3.09it/s]\n"
     ]
    },
    {
     "name": "stdout",
     "output_type": "stream",
     "text": [
      "VC : 0.293305+-0.001588, 0.025618, 0.051236\n"
     ]
    },
    {
     "name": "stderr",
     "output_type": "stream",
     "text": [
      "100%|██████████| 1000/1000 [05:28<00:00,  3.04it/s]\n"
     ]
    },
    {
     "name": "stdout",
     "output_type": "stream",
     "text": [
      "VS_Top100 : 0.889154+-0.000958, 0.015458, 0.030917\n"
     ]
    },
    {
     "name": "stderr",
     "output_type": "stream",
     "text": [
      "100%|██████████| 1000/1000 [00:07<00:00, 139.74it/s]\n"
     ]
    },
    {
     "name": "stdout",
     "output_type": "stream",
     "text": [
      "SC : 0.499352+-0.001335, 0.021539, 0.043077\n"
     ]
    },
    {
     "name": "stderr",
     "output_type": "stream",
     "text": [
      "100%|██████████| 1000/1000 [00:02<00:00, 406.06it/s]\n"
     ]
    },
    {
     "name": "stdout",
     "output_type": "stream",
     "text": [
      "RS : 0.073662+-0.000189, 0.003045, 0.006090\n",
      "capsule\n"
     ]
    },
    {
     "name": "stderr",
     "output_type": "stream",
     "text": [
      "100%|██████████| 1000/1000 [00:02<00:00, 450.66it/s]\n"
     ]
    },
    {
     "name": "stdout",
     "output_type": "stream",
     "text": [
      "MSE : 0.082254+-0.000192, 0.003105, 0.006210\n"
     ]
    },
    {
     "name": "stderr",
     "output_type": "stream",
     "text": [
      "100%|██████████| 1000/1000 [05:46<00:00,  2.89it/s]\n"
     ]
    },
    {
     "name": "stdout",
     "output_type": "stream",
     "text": [
      "VC : 0.088370+-0.001877, 0.030280, 0.060561\n"
     ]
    },
    {
     "name": "stderr",
     "output_type": "stream",
     "text": [
      "100%|██████████| 1000/1000 [05:40<00:00,  2.94it/s]\n"
     ]
    },
    {
     "name": "stdout",
     "output_type": "stream",
     "text": [
      "VS_Top100 : 0.571105+-0.002918, 0.047074, 0.094147\n"
     ]
    },
    {
     "name": "stderr",
     "output_type": "stream",
     "text": [
      "100%|██████████| 1000/1000 [00:08<00:00, 118.53it/s]\n"
     ]
    },
    {
     "name": "stdout",
     "output_type": "stream",
     "text": [
      "SC : 0.218340+-0.001208, 0.019484, 0.038969\n"
     ]
    },
    {
     "name": "stderr",
     "output_type": "stream",
     "text": [
      "100%|██████████| 1000/1000 [00:02<00:00, 390.45it/s]\n"
     ]
    },
    {
     "name": "stdout",
     "output_type": "stream",
     "text": [
      "RS : 0.056211+-0.000219, 0.003530, 0.007060\n",
      "naive\n"
     ]
    },
    {
     "name": "stderr",
     "output_type": "stream",
     "text": [
      "100%|██████████| 1000/1000 [00:02<00:00, 380.90it/s]\n"
     ]
    },
    {
     "name": "stdout",
     "output_type": "stream",
     "text": [
      "MSE : 0.088702+-0.000256, 0.004132, 0.008264\n"
     ]
    },
    {
     "name": "stderr",
     "output_type": "stream",
     "text": [
      "100%|██████████| 1000/1000 [05:40<00:00,  2.94it/s]\n"
     ]
    },
    {
     "name": "stdout",
     "output_type": "stream",
     "text": [
      "VC : 0.000973+-0.000144, 0.002328, 0.004656\n"
     ]
    },
    {
     "name": "stderr",
     "output_type": "stream",
     "text": [
      "100%|██████████| 1000/1000 [05:37<00:00,  2.97it/s]\n"
     ]
    },
    {
     "name": "stdout",
     "output_type": "stream",
     "text": [
      "VS_Top100 : 0.459931+-0.001343, 0.021665, 0.043329\n"
     ]
    },
    {
     "name": "stderr",
     "output_type": "stream",
     "text": [
      "100%|██████████| 1000/1000 [00:08<00:00, 119.83it/s]\n"
     ]
    },
    {
     "name": "stdout",
     "output_type": "stream",
     "text": [
      "SC : 0.159350+-0.000941, 0.015186, 0.030373\n"
     ]
    },
    {
     "name": "stderr",
     "output_type": "stream",
     "text": [
      "100%|██████████| 1000/1000 [00:02<00:00, 471.52it/s]\n"
     ]
    },
    {
     "name": "stdout",
     "output_type": "stream",
     "text": [
      "RS : 0.037904+-0.000013, 0.000213, 0.000427\n"
     ]
    }
   ],
   "source": [
    "# Calculate Normal Metrics for Imagenet-fMRI Encoders\n",
    "import pickle\n",
    "print('ImageNet-fMRI')\n",
    "metrics = [mse, vc_mean, vc_top100_mean, sc_mean, rs_mean]\n",
    "model_preds = [beliy_pred, caps_pred, naive_pred]\n",
    "model_names = ['beliy', 'capsule', 'naive']\n",
    "metric_names = ['MSE', 'VC', 'VS_Top100', 'SC', 'RS']\n",
    "bagging_metrics_a = {'MSE': [], 'VC': [], 'VS_Top100': [], 'SC': [], 'RS': []}\n",
    "\n",
    "for i, model_pred in enumerate(model_preds):\n",
    "  print(model_names[i])\n",
    "  for j, metric in enumerate(metrics):\n",
    "    vals = draw_bs_replicate(model_pred, y_test, metric, num_replicates)\n",
    "    mean = np.mean(vals)\n",
    "    ci = confidence_95(vals)\n",
    "    std = np.std(vals)\n",
    "    print(metric_names[j], ': %f+-%f, %f, %f' % (mean, ci, std, 2*std))\n",
    "    bagging_metrics_a[metric_names[j]].append(vals)\n",
    "\n",
    "with open('imagenet_bag_metrics.pkl', 'wb') as f:\n",
    "  pickle.dump(bagging_metrics_a, f)"
   ]
  },
  {
   "cell_type": "code",
   "execution_count": 59,
   "metadata": {},
   "outputs": [
    {
     "name": "stdout",
     "output_type": "stream",
     "text": [
      "MNIST-fMRI\n",
      "beliy\n"
     ]
    },
    {
     "name": "stderr",
     "output_type": "stream",
     "text": [
      "100%|██████████| 1000/1000 [00:00<00:00, 1205.42it/s]\n"
     ]
    },
    {
     "name": "stdout",
     "output_type": "stream",
     "text": [
      "MSE : 1.046838+-0.003408, 0.054982, 0.109964\n"
     ]
    },
    {
     "name": "stderr",
     "output_type": "stream",
     "text": [
      "100%|██████████| 1000/1000 [03:55<00:00,  4.24it/s]\n"
     ]
    },
    {
     "name": "stdout",
     "output_type": "stream",
     "text": [
      "VC : 0.145338+-0.001688, 0.027235, 0.054471\n"
     ]
    },
    {
     "name": "stderr",
     "output_type": "stream",
     "text": [
      "100%|██████████| 1000/1000 [04:44<00:00,  3.52it/s]\n"
     ]
    },
    {
     "name": "stdout",
     "output_type": "stream",
     "text": [
      "VS_Top100 : 0.788691+-0.002107, 0.034000, 0.067999\n"
     ]
    },
    {
     "name": "stderr",
     "output_type": "stream",
     "text": [
      "100%|██████████| 1000/1000 [00:03<00:00, 257.02it/s]\n"
     ]
    },
    {
     "name": "stdout",
     "output_type": "stream",
     "text": [
      "SC : 0.215849+-0.002109, 0.034034, 0.068068\n"
     ]
    },
    {
     "name": "stderr",
     "output_type": "stream",
     "text": [
      "100%|██████████| 1000/1000 [00:01<00:00, 840.61it/s]\n"
     ]
    },
    {
     "name": "stdout",
     "output_type": "stream",
     "text": [
      "RS : 0.062303+-0.000413, 0.006666, 0.013332\n",
      "capsule\n"
     ]
    },
    {
     "name": "stderr",
     "output_type": "stream",
     "text": [
      "100%|██████████| 1000/1000 [00:01<00:00, 999.95it/s]\n"
     ]
    },
    {
     "name": "stdout",
     "output_type": "stream",
     "text": [
      "MSE : 1.010128+-0.003323, 0.053620, 0.107240\n"
     ]
    },
    {
     "name": "stderr",
     "output_type": "stream",
     "text": [
      "100%|██████████| 1000/1000 [05:17<00:00,  3.15it/s]\n"
     ]
    },
    {
     "name": "stdout",
     "output_type": "stream",
     "text": [
      "VC : 0.184945+-0.001568, 0.025305, 0.050610\n"
     ]
    },
    {
     "name": "stderr",
     "output_type": "stream",
     "text": [
      "100%|██████████| 1000/1000 [03:39<00:00,  4.56it/s]\n"
     ]
    },
    {
     "name": "stdout",
     "output_type": "stream",
     "text": [
      "VS_Top100 : 0.841370+-0.001673, 0.027000, 0.054000\n"
     ]
    },
    {
     "name": "stderr",
     "output_type": "stream",
     "text": [
      "100%|██████████| 1000/1000 [00:02<00:00, 461.13it/s]\n"
     ]
    },
    {
     "name": "stdout",
     "output_type": "stream",
     "text": [
      "SC : 0.247317+-0.001935, 0.031220, 0.062440\n"
     ]
    },
    {
     "name": "stderr",
     "output_type": "stream",
     "text": [
      "100%|██████████| 1000/1000 [00:00<00:00, 1974.95it/s]\n"
     ]
    },
    {
     "name": "stdout",
     "output_type": "stream",
     "text": [
      "RS : 0.213636+-0.000937, 0.015110, 0.030221\n",
      "large_cnn\n"
     ]
    },
    {
     "name": "stderr",
     "output_type": "stream",
     "text": [
      "100%|██████████| 1000/1000 [00:00<00:00, 2434.39it/s]\n"
     ]
    },
    {
     "name": "stdout",
     "output_type": "stream",
     "text": [
      "MSE : 1.014253+-0.003340, 0.053894, 0.107789\n"
     ]
    },
    {
     "name": "stderr",
     "output_type": "stream",
     "text": [
      "100%|██████████| 1000/1000 [03:23<00:00,  4.92it/s]\n"
     ]
    },
    {
     "name": "stdout",
     "output_type": "stream",
     "text": [
      "VC : 0.192348+-0.001776, 0.028647, 0.057295\n"
     ]
    },
    {
     "name": "stderr",
     "output_type": "stream",
     "text": [
      "100%|██████████| 1000/1000 [03:25<00:00,  4.86it/s]\n"
     ]
    },
    {
     "name": "stdout",
     "output_type": "stream",
     "text": [
      "VS_Top100 : 0.838517+-0.001556, 0.025104, 0.050208\n"
     ]
    },
    {
     "name": "stderr",
     "output_type": "stream",
     "text": [
      "100%|██████████| 1000/1000 [00:02<00:00, 459.51it/s]\n"
     ]
    },
    {
     "name": "stdout",
     "output_type": "stream",
     "text": [
      "SC : 0.253650+-0.001944, 0.031368, 0.062737\n"
     ]
    },
    {
     "name": "stderr",
     "output_type": "stream",
     "text": [
      "100%|██████████| 1000/1000 [00:00<00:00, 1970.38it/s]\n"
     ]
    },
    {
     "name": "stdout",
     "output_type": "stream",
     "text": [
      "RS : 0.200470+-0.001217, 0.019628, 0.039255\n",
      "naive\n"
     ]
    },
    {
     "name": "stderr",
     "output_type": "stream",
     "text": [
      "100%|██████████| 1000/1000 [00:00<00:00, 2406.12it/s]\n"
     ]
    },
    {
     "name": "stdout",
     "output_type": "stream",
     "text": [
      "MSE : 1.088886+-0.003183, 0.051360, 0.102720\n"
     ]
    },
    {
     "name": "stderr",
     "output_type": "stream",
     "text": [
      "100%|██████████| 1000/1000 [03:19<00:00,  5.00it/s]\n"
     ]
    },
    {
     "name": "stdout",
     "output_type": "stream",
     "text": [
      "VC : -0.002963+-0.000257, 0.004150, 0.008300\n"
     ]
    },
    {
     "name": "stderr",
     "output_type": "stream",
     "text": [
      "100%|██████████| 1000/1000 [03:34<00:00,  4.66it/s]\n"
     ]
    },
    {
     "name": "stdout",
     "output_type": "stream",
     "text": [
      "VS_Top100 : 0.646211+-0.002343, 0.037799, 0.075599\n"
     ]
    },
    {
     "name": "stderr",
     "output_type": "stream",
     "text": [
      "100%|██████████| 1000/1000 [00:02<00:00, 359.72it/s]\n"
     ]
    },
    {
     "name": "stdout",
     "output_type": "stream",
     "text": [
      "SC : -0.000076+-0.000657, 0.010607, 0.021215\n"
     ]
    },
    {
     "name": "stderr",
     "output_type": "stream",
     "text": [
      "100%|██████████| 1000/1000 [00:00<00:00, 1482.47it/s]\n"
     ]
    },
    {
     "name": "stdout",
     "output_type": "stream",
     "text": [
      "RS : 0.035702+-0.000037, 0.000595, 0.001190\n"
     ]
    }
   ],
   "source": [
    "# Calculate Normal Metrics for MNIST-fMRI Encoders\n",
    "print('MNIST-fMRI')\n",
    "metrics = [mse, vc_mean, vc_top100_mean, sc_mean, rs_mean]\n",
    "model_preds = [digits_beliy_pred, digits_caps_pred, digits_cnn_pred, digits_naive_pred]\n",
    "model_names = ['beliy', 'capsule', 'large_cnn', 'naive']\n",
    "metric_names = ['MSE', 'VC', 'VS_Top100', 'SC', 'RS']\n",
    "bagging_metrics_b = {'MSE': [], 'VC': [], 'VS_Top100': [], 'SC': [], 'RS': []}\n",
    "\n",
    "for i, model_pred in enumerate(model_preds):\n",
    "  print(model_names[i])\n",
    "  for j, metric in enumerate(metrics):\n",
    "    vals = draw_bs_replicate(model_pred, digits_test, metric, num_replicates)\n",
    "    mean = np.mean(vals)\n",
    "    ci = confidence_95(vals)\n",
    "    std = np.std(vals)\n",
    "    print(metric_names[j], ': %f+-%f, %f, %f' % (mean, ci, std, 2*std))\n",
    "    bagging_metrics_b[metric_names[j]].append(vals)\n",
    "\n",
    "with open('mnist_bag_metrics.pkl', 'wb') as f:\n",
    "  pickle.dump(bagging_metrics_b, f)\n",
    "    "
   ]
  },
  {
   "cell_type": "code",
   "execution_count": 12,
   "metadata": {},
   "outputs": [
    {
     "name": "stdout",
     "output_type": "stream",
     "text": [
      "New Metrics ImageNet-fMRI\n",
      "beliy\n"
     ]
    },
    {
     "name": "stderr",
     "output_type": "stream",
     "text": [
      "100%|██████████| 1000/1000 [02:20<00:00,  7.13it/s]\n"
     ]
    },
    {
     "name": "stdout",
     "output_type": "stream",
     "text": [
      "rwc_skew : -17.981615+-0.093876, 1.514606, 3.029211\n",
      "capsule\n"
     ]
    },
    {
     "name": "stderr",
     "output_type": "stream",
     "text": [
      "100%|██████████| 1000/1000 [02:20<00:00,  7.11it/s]\n"
     ]
    },
    {
     "name": "stdout",
     "output_type": "stream",
     "text": [
      "rwc_skew : -3.747018+-0.096234, 1.552648, 3.105297\n",
      "beliy\n"
     ]
    },
    {
     "name": "stderr",
     "output_type": "stream",
     "text": [
      "100%|██████████| 1000/1000 [02:16<00:00,  7.30it/s]\n"
     ]
    },
    {
     "name": "stdout",
     "output_type": "stream",
     "text": [
      "rwc : 0.257205+-0.000831, 0.013406, 0.026812\n"
     ]
    },
    {
     "name": "stderr",
     "output_type": "stream",
     "text": [
      "100%|██████████| 1000/1000 [02:23<00:00,  6.99it/s]\n"
     ]
    },
    {
     "name": "stdout",
     "output_type": "stream",
     "text": [
      "vc : 0.530922+-0.001966, 0.031718, 0.063435\n"
     ]
    },
    {
     "name": "stderr",
     "output_type": "stream",
     "text": [
      "100%|██████████| 1000/1000 [00:01<00:00, 512.86it/s]\n"
     ]
    },
    {
     "name": "stdout",
     "output_type": "stream",
     "text": [
      "rs : 0.133280+-0.000381, 0.006155, 0.012309\n",
      "capsule\n"
     ]
    },
    {
     "name": "stderr",
     "output_type": "stream",
     "text": [
      "100%|██████████| 1000/1000 [02:25<00:00,  6.85it/s]\n"
     ]
    },
    {
     "name": "stdout",
     "output_type": "stream",
     "text": [
      "rwc : 0.095039+-0.001396, 0.022528, 0.045055\n"
     ]
    },
    {
     "name": "stderr",
     "output_type": "stream",
     "text": [
      "100%|██████████| 1000/1000 [02:24<00:00,  6.90it/s]\n"
     ]
    },
    {
     "name": "stdout",
     "output_type": "stream",
     "text": [
      "vc : 0.171688+-0.002657, 0.042862, 0.085725\n"
     ]
    },
    {
     "name": "stderr",
     "output_type": "stream",
     "text": [
      "100%|██████████| 1000/1000 [00:01<00:00, 824.93it/s]\n"
     ]
    },
    {
     "name": "stdout",
     "output_type": "stream",
     "text": [
      "rs : 0.085616+-0.000370, 0.005978, 0.011955\n",
      "naive\n"
     ]
    },
    {
     "name": "stderr",
     "output_type": "stream",
     "text": [
      "100%|██████████| 1000/1000 [02:35<00:00,  6.45it/s]\n"
     ]
    },
    {
     "name": "stdout",
     "output_type": "stream",
     "text": [
      "rwc : 0.001425+-0.000087, 0.001412, 0.002823\n"
     ]
    },
    {
     "name": "stderr",
     "output_type": "stream",
     "text": [
      "100%|██████████| 1000/1000 [02:22<00:00,  7.00it/s]\n"
     ]
    },
    {
     "name": "stdout",
     "output_type": "stream",
     "text": [
      "vc : 0.003572+-0.000224, 0.003622, 0.007243\n"
     ]
    },
    {
     "name": "stderr",
     "output_type": "stream",
     "text": [
      "100%|██████████| 1000/1000 [00:01<00:00, 579.10it/s]\n"
     ]
    },
    {
     "name": "stdout",
     "output_type": "stream",
     "text": [
      "rs : 0.038087+-0.000017, 0.000275, 0.000550\n"
     ]
    }
   ],
   "source": [
    "# Calculate new metrics for imagenet fMRI\n",
    "print('New Metrics ImageNet-fMRI')\n",
    "b_int = get_int_vox_idx(beliy_pred, y_test)\n",
    "c_int = get_int_vox_idx(caps_pred, y_test)\n",
    "n_int = get_int_vox_idx(naive_pred, y_test)\n",
    "\n",
    "model_preds = [beliy_pred, caps_pred]\n",
    "voxel_select = [b_int, c_int]\n",
    "model_names = ['beliy', 'capsule']\n",
    "bagging_metrics_c = {'rwc_skew': [], 'rwc': [], 'vc': [], 'rs': []}\n",
    "\n",
    "metrics = [rwc_skew_mean]\n",
    "metric_names = ['rwc_skew']\n",
    "for i, model_pred in enumerate(model_preds):\n",
    "  print(model_names[i])\n",
    "  for j, metric in enumerate(metrics):\n",
    "    select = voxel_select[j]\n",
    "    vals = draw_bs_replicate(model_pred[:, select], y_test[:, select], metric, num_replicates)\n",
    "    mean = np.mean(vals)\n",
    "    ci = confidence_95(vals)\n",
    "    std = np.std(vals)\n",
    "    print(metric_names[j], ': %f+-%f, %f, %f' % (mean, ci, std, 2*std))\n",
    "    bagging_metrics_c[metric_names[j]].append(vals)\n",
    "\n",
    "\n",
    "model_preds = [beliy_pred, caps_pred, naive_pred]\n",
    "model_names = ['beliy', 'capsule', 'naive']\n",
    "metrics = [rwc_mean, vc_mean, rs_mean]\n",
    "metric_names = ['rwc', 'vc', 'rs']\n",
    "v_int = np.union1d(b_int, c_int).astype(int)\n",
    "v_int = np.union1d(v_int, n_int).astype(int)\n",
    "\n",
    "for i, model_pred in enumerate(model_preds):\n",
    "  print(model_names[i])\n",
    "  for j, metric in enumerate(metrics):\n",
    "    vals = draw_bs_replicate(model_pred[:, v_int], y_test[:, v_int], metric, num_replicates)\n",
    "    mean = np.mean(vals)\n",
    "    ci = confidence_95(vals)\n",
    "    std = np.std(vals)\n",
    "    print(metric_names[j], ': %f+-%f, %f, %f' % (mean, ci, std, 2*std))\n",
    "    bagging_metrics_c[metric_names[j]].append(vals)\n",
    "\n",
    "with open('imagenet_bag_new_metrics.pkl', 'wb') as f:\n",
    "  pickle.dump(bagging_metrics_c, f)"
   ]
  },
  {
   "cell_type": "code",
   "execution_count": 13,
   "metadata": {},
   "outputs": [
    {
     "name": "stdout",
     "output_type": "stream",
     "text": [
      "0.1549588450355794\n",
      "0.0\n",
      "0.19372811233415888\n",
      "0.0\n"
     ]
    }
   ],
   "source": [
    "print(rwc_thresh(naive_pred, y_test))\n",
    "print(above_thresh_percentage(naive_pred, y_test))\n",
    "\n",
    "print(rwc_thresh(digits_naive_pred, digits_test))\n",
    "print(above_thresh_percentage(digits_naive_pred, digits_test))"
   ]
  },
  {
   "cell_type": "code",
   "execution_count": 25,
   "metadata": {},
   "outputs": [
    {
     "name": "stdout",
     "output_type": "stream",
     "text": [
      "New Metrics MNIST-fMRI\n",
      "beliy\n"
     ]
    },
    {
     "name": "stderr",
     "output_type": "stream",
     "text": [
      "100%|██████████| 1000/1000 [00:38<00:00, 26.16it/s]\n"
     ]
    },
    {
     "name": "stdout",
     "output_type": "stream",
     "text": [
      "rwc_skew : -15.166420+-0.146990, 2.371552, 4.743104\n",
      "capsule\n"
     ]
    },
    {
     "name": "stderr",
     "output_type": "stream",
     "text": [
      "100%|██████████| 1000/1000 [00:37<00:00, 26.67it/s]\n"
     ]
    },
    {
     "name": "stdout",
     "output_type": "stream",
     "text": [
      "rwc_skew : -6.968781+-0.145698, 2.350705, 4.701410\n",
      "large_cnn\n"
     ]
    },
    {
     "name": "stderr",
     "output_type": "stream",
     "text": [
      "100%|██████████| 1000/1000 [00:40<00:00, 24.93it/s]\n"
     ]
    },
    {
     "name": "stdout",
     "output_type": "stream",
     "text": [
      "rwc_skew : -12.079715+-0.177496, 2.863735, 5.727470\n",
      "beliy\n"
     ]
    },
    {
     "name": "stderr",
     "output_type": "stream",
     "text": [
      "100%|██████████| 1000/1000 [00:52<00:00, 19.02it/s]\n"
     ]
    },
    {
     "name": "stdout",
     "output_type": "stream",
     "text": [
      "rwc : 0.276504+-0.002085, 0.033645, 0.067290\n"
     ]
    },
    {
     "name": "stderr",
     "output_type": "stream",
     "text": [
      "100%|██████████| 1000/1000 [00:41<00:00, 24.29it/s]\n"
     ]
    },
    {
     "name": "stdout",
     "output_type": "stream",
     "text": [
      "vc : 0.486722+-0.003197, 0.051585, 0.103170\n"
     ]
    },
    {
     "name": "stderr",
     "output_type": "stream",
     "text": [
      "100%|██████████| 1000/1000 [00:00<00:00, 3592.73it/s]\n"
     ]
    },
    {
     "name": "stdout",
     "output_type": "stream",
     "text": [
      "rs : 0.180269+-0.001380, 0.022272, 0.044544\n",
      "capsule\n"
     ]
    },
    {
     "name": "stderr",
     "output_type": "stream",
     "text": [
      "100%|██████████| 1000/1000 [00:45<00:00, 22.16it/s]\n"
     ]
    },
    {
     "name": "stdout",
     "output_type": "stream",
     "text": [
      "rwc : 0.476209+-0.002385, 0.038483, 0.076967\n"
     ]
    },
    {
     "name": "stderr",
     "output_type": "stream",
     "text": [
      "100%|██████████| 1000/1000 [00:51<00:00, 19.35it/s]\n"
     ]
    },
    {
     "name": "stdout",
     "output_type": "stream",
     "text": [
      "vc : 0.549631+-0.002363, 0.038126, 0.076252\n"
     ]
    },
    {
     "name": "stderr",
     "output_type": "stream",
     "text": [
      "100%|██████████| 1000/1000 [00:00<00:00, 2492.70it/s]\n"
     ]
    },
    {
     "name": "stdout",
     "output_type": "stream",
     "text": [
      "rs : 0.446631+-0.002224, 0.035883, 0.071766\n",
      "large_cnn\n"
     ]
    },
    {
     "name": "stderr",
     "output_type": "stream",
     "text": [
      "100%|██████████| 1000/1000 [00:53<00:00, 18.82it/s]\n"
     ]
    },
    {
     "name": "stdout",
     "output_type": "stream",
     "text": [
      "rwc : 0.426067+-0.002053, 0.033125, 0.066250\n"
     ]
    },
    {
     "name": "stderr",
     "output_type": "stream",
     "text": [
      "100%|██████████| 1000/1000 [00:57<00:00, 17.36it/s]\n"
     ]
    },
    {
     "name": "stdout",
     "output_type": "stream",
     "text": [
      "vc : 0.547791+-0.002473, 0.039895, 0.079789\n"
     ]
    },
    {
     "name": "stderr",
     "output_type": "stream",
     "text": [
      "100%|██████████| 1000/1000 [00:00<00:00, 2354.84it/s]\n"
     ]
    },
    {
     "name": "stdout",
     "output_type": "stream",
     "text": [
      "rs : 0.363415+-0.002041, 0.032931, 0.065863\n",
      "naive\n"
     ]
    },
    {
     "name": "stderr",
     "output_type": "stream",
     "text": [
      "100%|██████████| 1000/1000 [01:00<00:00, 16.62it/s]\n"
     ]
    },
    {
     "name": "stdout",
     "output_type": "stream",
     "text": [
      "rwc : 0.002046+-0.000168, 0.002713, 0.005427\n"
     ]
    },
    {
     "name": "stderr",
     "output_type": "stream",
     "text": [
      "100%|██████████| 1000/1000 [00:57<00:00, 17.28it/s]\n"
     ]
    },
    {
     "name": "stdout",
     "output_type": "stream",
     "text": [
      "vc : 0.006046+-0.000482, 0.007784, 0.015568\n"
     ]
    },
    {
     "name": "stderr",
     "output_type": "stream",
     "text": [
      "100%|██████████| 1000/1000 [00:00<00:00, 2854.64it/s]\n"
     ]
    },
    {
     "name": "stdout",
     "output_type": "stream",
     "text": [
      "rs : 0.035362+-0.000042, 0.000683, 0.001366\n"
     ]
    }
   ],
   "source": [
    "# Calculate new metrics for imagenet fMRI\n",
    "print('New Metrics MNIST-fMRI')\n",
    "b_int = get_int_vox_idx(digits_beliy_pred, digits_test)\n",
    "c_int = get_int_vox_idx(digits_caps_pred, digits_test)\n",
    "n_int = get_int_vox_idx(digits_naive_pred, digits_test)\n",
    "cnn_int = get_int_vox_idx(digits_cnn_pred, digits_test)\n",
    "\n",
    "model_preds = [digits_beliy_pred, digits_caps_pred, digits_cnn_pred]\n",
    "voxel_select = [b_int, c_int, cnn_int]\n",
    "model_names = ['beliy', 'capsule', 'large_cnn']\n",
    "bagging_metrics_d = {'rwc_skew': [], 'rwc': [], 'vc': [], 'rs': []}\n",
    "\n",
    "metrics = [rwc_skew_mean]\n",
    "metric_names = ['rwc_skew']\n",
    "for i, model_pred in enumerate(model_preds):\n",
    "  print(model_names[i])\n",
    "  for j, metric in enumerate(metrics):\n",
    "    select = voxel_select[j]\n",
    "    vals = draw_bs_replicate(model_pred[:, select], digits_test[:, select], metric, num_replicates)\n",
    "    mean = np.mean(vals)\n",
    "    ci = confidence_95(vals)\n",
    "    std = np.std(vals)\n",
    "    print(metric_names[j], ': %f+-%f, %f, %f' % (mean, ci, std, 2*std))\n",
    "    bagging_metrics_d[metric_names[j]].append(vals)\n",
    "\n",
    "v_int = np.union1d(b_int, c_int).astype(int)\n",
    "v_int = np.union1d(v_int, cnn_int).astype(int)\n",
    "v_int = np.union1d(v_int, n_int).astype(int)\n",
    "\n",
    "model_preds = [digits_beliy_pred, digits_caps_pred, digits_cnn_pred, digits_naive_pred]\n",
    "model_names = ['beliy', 'capsule', 'large_cnn', 'naive']\n",
    "metrics = [rwc_mean, vc_mean, rs_mean]\n",
    "metric_names = ['rwc', 'vc', 'rs']\n",
    "for i, model_pred in enumerate(model_preds):\n",
    "  print(model_names[i])\n",
    "  for j, metric in enumerate(metrics):\n",
    "    vals = draw_bs_replicate(model_pred[:, v_int], digits_test[:, v_int], metric, num_replicates)\n",
    "    mean = np.mean(vals)\n",
    "    ci = confidence_95(vals)\n",
    "    std = np.std(vals)\n",
    "    print(metric_names[j], ': %f+-%f, %f, %f' % (mean, ci, std, 2*std))\n",
    "    bagging_metrics_d[metric_names[j]].append(vals)\n",
    "\n",
    "with open('mnist_bag_new_metrics.pkl', 'wb') as f:\n",
    "  pickle.dump(bagging_metrics_a, f)"
   ]
  },
  {
   "cell_type": "code",
   "execution_count": 58,
   "metadata": {},
   "outputs": [
    {
     "name": "stdout",
     "output_type": "stream",
     "text": [
      "dict_keys(['MSE', 'VC', 'VS_Top100', 'SC', 'RS'])\n",
      "dict_keys(['rwc_skew', 'rwc', 'vc', 'rs'])\n",
      "(4, 1000)\n",
      "(1000,)\n",
      "0.27650382269654405\n",
      "0.4762086817466359\n",
      "460866.0 6.622924907708811e-118\n",
      "260179.0 0.13855103399783902\n",
      "497442.0 1.5278992350307103e-161\n"
     ]
    }
   ],
   "source": [
    "from scipy.stats import wilcoxon\n",
    "\n",
    "print(bagging_metrics_a.keys())\n",
    "print(bagging_metrics_d.keys())\n",
    "print(np.shape(bagging_metrics_d['rwc']))\n",
    "print(np.shape(bagging_metrics_d['rwc'][0]))\n",
    "print(np.mean(bagging_metrics_d['rwc'][0]))\n",
    "print(np.mean(bagging_metrics_d['rwc'][1]))\n",
    "w_stats = wilcoxon(x=bagging_metrics_d['rwc'][1],  y=bagging_metrics_d['rwc'][2], alternative='greater')\n",
    "print(w_stats.statistic, w_stats.pvalue)\n",
    "w_stats = wilcoxon(x=bagging_metrics_d['vc'][1],  y=bagging_metrics_d['vc'][2], alternative='greater')\n",
    "print(w_stats.statistic, w_stats.pvalue)\n",
    "w_stats = wilcoxon(x=bagging_metrics_d['rs'][1],  y=bagging_metrics_d['rs'][2], alternative='greater')\n",
    "print(w_stats.statistic, w_stats.pvalue)"
   ]
  }
 ],
 "metadata": {
  "kernelspec": {
   "display_name": "Python 3.7.4 ('capsnet')",
   "language": "python",
   "name": "python3"
  },
  "language_info": {
   "codemirror_mode": {
    "name": "ipython",
    "version": 3
   },
   "file_extension": ".py",
   "mimetype": "text/x-python",
   "name": "python",
   "nbconvert_exporter": "python",
   "pygments_lexer": "ipython3",
   "version": "3.7.4"
  },
  "orig_nbformat": 4,
  "vscode": {
   "interpreter": {
    "hash": "635adb4fb96eab8d6bfe77a70d4503969a4e149a0d24ed794a5ed368aa9974b1"
   }
  }
 },
 "nbformat": 4,
 "nbformat_minor": 2
}
